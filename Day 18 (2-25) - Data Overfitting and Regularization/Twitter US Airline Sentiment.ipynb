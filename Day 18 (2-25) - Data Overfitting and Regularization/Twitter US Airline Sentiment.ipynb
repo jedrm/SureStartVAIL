{
 "cells": [
  {
   "cell_type": "code",
   "execution_count": 1,
   "metadata": {},
   "outputs": [
    {
     "name": "stdout",
     "output_type": "stream",
     "text": [
      "Number of GPUs available: 1\n"
     ]
    }
   ],
   "source": [
    "# Configure tensorflow and GPUs\n",
    "import tensorflow as tf\n",
    "gpus = tf.config.list_physical_devices(\"GPU\")\n",
    "print(f\"Number of GPUs available: {len(gpus)}\")\n",
    "try:\n",
    "    for gpu in gpus:\n",
    "        tf.config.experimental.set_memory_growth(gpu, True)\n",
    "except:\n",
    "    pass"
   ]
  },
  {
   "cell_type": "code",
   "execution_count": 2,
   "metadata": {},
   "outputs": [
    {
     "name": "stdout",
     "output_type": "stream",
     "text": [
      "Requirement already satisfied: pandas in /usr/local/lib/python3.6/dist-packages (1.1.5)\n",
      "Requirement already satisfied: scikit-learn in /usr/local/lib/python3.6/dist-packages (0.24.1)\n",
      "Requirement already satisfied: nltk in /usr/local/lib/python3.6/dist-packages (3.5)\n",
      "Requirement already satisfied: pathlib in /usr/local/lib/python3.6/dist-packages (1.0.1)\n",
      "Requirement already satisfied: pytz>=2017.2 in /usr/local/lib/python3.6/dist-packages (from pandas) (2021.1)\n",
      "Requirement already satisfied: python-dateutil>=2.7.3 in /usr/local/lib/python3.6/dist-packages (from pandas) (2.8.1)\n",
      "Requirement already satisfied: numpy>=1.15.4 in /usr/local/lib/python3.6/dist-packages (from pandas) (1.19.5)\n",
      "Requirement already satisfied: threadpoolctl>=2.0.0 in /usr/local/lib/python3.6/dist-packages (from scikit-learn) (2.1.0)\n",
      "Requirement already satisfied: scipy>=0.19.1 in /usr/local/lib/python3.6/dist-packages (from scikit-learn) (1.5.4)\n",
      "Requirement already satisfied: joblib>=0.11 in /usr/local/lib/python3.6/dist-packages (from scikit-learn) (1.0.1)\n",
      "Requirement already satisfied: tqdm in /usr/local/lib/python3.6/dist-packages (from nltk) (4.58.0)\n",
      "Requirement already satisfied: regex in /usr/local/lib/python3.6/dist-packages (from nltk) (2020.11.13)\n",
      "Requirement already satisfied: click in /usr/local/lib/python3.6/dist-packages (from nltk) (7.1.2)\n",
      "Requirement already satisfied: six>=1.5 in /usr/local/lib/python3.6/dist-packages (from python-dateutil>=2.7.3->pandas) (1.15.0)\n",
      "\u001b[33mWARNING: You are using pip version 20.2.4; however, version 21.0.1 is available.\n",
      "You should consider upgrading via the '/usr/bin/python3 -m pip install --upgrade pip' command.\u001b[0m\n"
     ]
    }
   ],
   "source": [
    "# Import basic packages\n",
    "!pip install pandas scikit-learn nltk pathlib\n",
    "import pandas as pd\n",
    "import numpy as np\n",
    "import re\n",
    "import collections\n",
    "import matplotlib.pyplot as plt\n",
    "from pathlib import Path\n",
    "\n",
    "%matplotlib inline"
   ]
  },
  {
   "cell_type": "code",
   "execution_count": 3,
   "metadata": {},
   "outputs": [
    {
     "name": "stderr",
     "output_type": "stream",
     "text": [
      "[nltk_data] Downloading package stopwords to /root/nltk_data...\n",
      "[nltk_data]   Package stopwords is already up-to-date!\n"
     ]
    },
    {
     "data": {
      "text/plain": [
       "True"
      ]
     },
     "execution_count": 3,
     "metadata": {},
     "output_type": "execute_result"
    }
   ],
   "source": [
    "# Packages for data preparation\n",
    "from sklearn.model_selection import train_test_split\n",
    "import nltk\n",
    "from nltk.corpus import stopwords\n",
    "from tensorflow.keras.preprocessing.text import Tokenizer\n",
    "from tensorflow.keras.utils import to_categorical \n",
    "from sklearn.preprocessing import LabelEncoder\n",
    "\n",
    "# Packages for model\n",
    "from tensorflow.keras import models\n",
    "from tensorflow.keras import layers\n",
    "from tensorflow.keras import regularizers\n",
    "\n",
    "nltk.download('stopwords')"
   ]
  },
  {
   "cell_type": "code",
   "execution_count": 4,
   "metadata": {},
   "outputs": [],
   "source": [
    "# Set constants\n",
    "NB_WORDS = 10000 # Number of words in the dictionary\n",
    "NB_START_EPOCHS = 20 # Number of epochs for training\n",
    "BATCH_SIZE = 512\n",
    "MAX_LEN = 20 # Maximum number of sequence in a sentence"
   ]
  },
  {
   "cell_type": "code",
   "execution_count": 5,
   "metadata": {},
   "outputs": [],
   "source": [
    "# Create some helper functions for the program\n",
    "def deep_model(model, X_train, X_val, y_train, y_val):\n",
    "    model.compile(\n",
    "        optimizer='rmsprop',\n",
    "        loss='categorical_crossentropy',\n",
    "        metrics=[\"accuracy\"]\n",
    "    )\n",
    "    \n",
    "    history = model.fit(\n",
    "        X_train, y_train, \n",
    "        epochs=NB_START_EPOCHS,\n",
    "        batch_size=BATCH_SIZE,\n",
    "        validation_data=(X_val, y_val),\n",
    "        verbose=1\n",
    "    )\n",
    "    \n",
    "    return history"
   ]
  },
  {
   "cell_type": "code",
   "execution_count": 6,
   "metadata": {},
   "outputs": [],
   "source": [
    "def eval_metric(model, history, metric_name):\n",
    "    metric = history.history[metric_name]\n",
    "    val_metric = history.history[\"val_\" + metric_name]\n",
    "    \n",
    "    e =range(1, NB_START_EPOCHS + 1)\n",
    "    \n",
    "    plt.plot(e, metric, \"bo\", label=\"Train \" + metric_name)\n",
    "    plt.plot(e, val_metric, \"b\", label=\"Validation \" + metric_name)\n",
    "    plt.xlabel(\"Epoch Number\")\n",
    "    plt.ylabel(metric_name)\n",
    "    plt.title(\"Comparing training and validation \" + metric_name)\n",
    "    plt.legend()\n",
    "    plt.show()"
   ]
  },
  {
   "cell_type": "code",
   "execution_count": 7,
   "metadata": {},
   "outputs": [],
   "source": [
    "def test_model(model, X_train, y_train, X_test, y_test, epoch_stop):\n",
    "    model.fit(\n",
    "        X_train, y_train,\n",
    "        epochs=epoch_stop,\n",
    "        batch_size=BATCH_SIZE,\n",
    "        verbose=1\n",
    "    )\n",
    "    results = model.evaluate(X_test, y_test)\n",
    "    print()\n",
    "    print(\"Test accuracy: {0:.2f}%\".format(results[1]*100))\n",
    "    return results"
   ]
  },
  {
   "cell_type": "code",
   "execution_count": 8,
   "metadata": {},
   "outputs": [],
   "source": [
    "def remove_stopwords(input_text):\n",
    "    stopwords_list = stopwords.words(\"english\")\n",
    "    whitelist = [\"n't\", \"not\", \"no\"]\n",
    "    words = input_text.split()\n",
    "    clean_words = [word for word in words if (word not in stopwords_list) and len(word) > 1]\n",
    "    return \" \".join(clean_words)"
   ]
  },
  {
   "cell_type": "code",
   "execution_count": 9,
   "metadata": {},
   "outputs": [],
   "source": [
    "def remove_mentions(input_text):\n",
    "    return re.sub(r'@\\w+', '', input_text)"
   ]
  },
  {
   "cell_type": "code",
   "execution_count": 10,
   "metadata": {},
   "outputs": [],
   "source": [
    "def compare_models_by_metric(model_1, model_2, model_hist_1, model_hist_2, metric):\n",
    "    metric_model_1 = model_hist_1.history[metric]\n",
    "    metric_model_2 = model_hist_2.history[metric]\n",
    "    e = range(1, NB_START_EPOCHS + 1)\n",
    "    \n",
    "    metrics_dict = {\n",
    "        'acc' : 'Training Accuracy',\n",
    "        'loss' : 'Training Loss',\n",
    "        'val_acc' : 'Validation accuracy',\n",
    "        'val_loss' : 'Validation loss'\n",
    "    }\n",
    "    \n",
    "    metric_label = metrics_dict[metric]\n",
    "    plt.plot(e, metric_model_1, 'bo', label=model_1.name)\n",
    "    plt.plot(e, metric_model_2, 'b', label=model_2.name)\n",
    "    plt.xlabel('Epoch number')\n",
    "    plt.ylabel(metric_label)\n",
    "    plt.title('Comparing ' + metric_label + ' between models')\n",
    "    plt.legend()\n",
    "    plt.show()"
   ]
  },
  {
   "cell_type": "code",
   "execution_count": 11,
   "metadata": {},
   "outputs": [],
   "source": [
    "def optimal_epoch(model_hist):\n",
    "    min_epoch = np.argmin(model_hist.history[\"val_loss\"]) + 1\n",
    "    print(\"Minimum validation loss reached in epoch {}\".format(min_epoch))\n",
    "    return min_epoch"
   ]
  },
  {
   "cell_type": "markdown",
   "metadata": {},
   "source": [
    "## Data Preparation"
   ]
  },
  {
   "cell_type": "code",
   "execution_count": 12,
   "metadata": {
    "scrolled": true
   },
   "outputs": [
    {
     "data": {
      "text/html": [
       "<div>\n",
       "<style scoped>\n",
       "    .dataframe tbody tr th:only-of-type {\n",
       "        vertical-align: middle;\n",
       "    }\n",
       "\n",
       "    .dataframe tbody tr th {\n",
       "        vertical-align: top;\n",
       "    }\n",
       "\n",
       "    .dataframe thead th {\n",
       "        text-align: right;\n",
       "    }\n",
       "</style>\n",
       "<table border=\"1\" class=\"dataframe\">\n",
       "  <thead>\n",
       "    <tr style=\"text-align: right;\">\n",
       "      <th></th>\n",
       "      <th>text</th>\n",
       "      <th>airline_sentiment</th>\n",
       "    </tr>\n",
       "  </thead>\n",
       "  <tbody>\n",
       "    <tr>\n",
       "      <th>226</th>\n",
       "      <td>hold times call center bit much</td>\n",
       "      <td>negative</td>\n",
       "    </tr>\n",
       "    <tr>\n",
       "      <th>3296</th>\n",
       "      <td>delayed flight SLC 2.5 hours. What gives? #sn...</td>\n",
       "      <td>negative</td>\n",
       "    </tr>\n",
       "    <tr>\n",
       "      <th>5147</th>\n",
       "      <td>Am flying Spirit air?</td>\n",
       "      <td>negative</td>\n",
       "    </tr>\n",
       "    <tr>\n",
       "      <th>9873</th>\n",
       "      <td>flight 2031, worst experience we've ever flig...</td>\n",
       "      <td>negative</td>\n",
       "    </tr>\n",
       "    <tr>\n",
       "      <th>9726</th>\n",
       "      <td>always nice customer service manager threate...</td>\n",
       "      <td>negative</td>\n",
       "    </tr>\n",
       "  </tbody>\n",
       "</table>\n",
       "</div>"
      ],
      "text/plain": [
       "                                                   text airline_sentiment\n",
       "226                     hold times call center bit much          negative\n",
       "3296   delayed flight SLC 2.5 hours. What gives? #sn...          negative\n",
       "5147                              Am flying Spirit air?          negative\n",
       "9873   flight 2031, worst experience we've ever flig...          negative\n",
       "9726    always nice customer service manager threate...          negative"
      ]
     },
     "execution_count": 12,
     "metadata": {},
     "output_type": "execute_result"
    }
   ],
   "source": [
    "df = pd.read_csv(\"data/Tweets.csv\")\n",
    "df = df.reindex(np.random.permutation(df.index))\n",
    "df = df[[\"text\", \"airline_sentiment\"]]\n",
    "df.text = df.text.apply(remove_stopwords).apply(remove_mentions)\n",
    "df.head()"
   ]
  },
  {
   "cell_type": "code",
   "execution_count": 13,
   "metadata": {},
   "outputs": [],
   "source": [
    "X_train, X_test, y_train, y_test = train_test_split(df.text, df.airline_sentiment, test_size=0.1, random_state=1337)"
   ]
  },
  {
   "cell_type": "code",
   "execution_count": 14,
   "metadata": {},
   "outputs": [],
   "source": [
    "tk = Tokenizer(\n",
    "    num_words=NB_WORDS,\n",
    "    filters='!\"#$%&()*+,-./:;<=>?@[\\\\]^_`{\"}~\\t\\n',\n",
    "    lower=True,\n",
    "    char_level=False,\n",
    "    split=\" \"\n",
    ")\n",
    "tk.fit_on_texts(X_train)"
   ]
  },
  {
   "cell_type": "code",
   "execution_count": 15,
   "metadata": {},
   "outputs": [],
   "source": [
    "X_train_oh = tk.texts_to_matrix(X_train, mode=\"binary\")\n",
    "X_test_oh = tk.texts_to_matrix(X_test, mode=\"binary\")"
   ]
  },
  {
   "cell_type": "code",
   "execution_count": 16,
   "metadata": {},
   "outputs": [],
   "source": [
    "le = LabelEncoder()\n",
    "y_train_le = le.fit_transform(y_train)\n",
    "y_test_le = le.fit_transform(y_test)\n",
    "y_train_oh = to_categorical(y_train_le)\n",
    "y_test_oh = to_categorical(y_test_le)"
   ]
  },
  {
   "cell_type": "code",
   "execution_count": 17,
   "metadata": {},
   "outputs": [],
   "source": [
    "X_train_rest, X_val, y_train_rest, y_val = train_test_split(X_train_oh, y_train_oh, test_size=0.1, random_state=1337)"
   ]
  },
  {
   "cell_type": "code",
   "execution_count": 18,
   "metadata": {},
   "outputs": [],
   "source": [
    "# Create a baseline model\n",
    "base_model = models.Sequential([\n",
    "    layers.Dense(64, activation=\"relu\", input_shape=(NB_WORDS,)),\n",
    "    layers.Dense(64, activation=\"relu\"),\n",
    "    layers.Dense(3, activation=\"softmax\")\n",
    "], name=\"baseline\")"
   ]
  },
  {
   "cell_type": "code",
   "execution_count": 19,
   "metadata": {},
   "outputs": [
    {
     "name": "stdout",
     "output_type": "stream",
     "text": [
      "Epoch 1/20\n",
      "24/24 [==============================] - 2s 29ms/step - loss: 0.9630 - accuracy: 0.5632 - val_loss: 0.7111 - val_accuracy: 0.6760\n",
      "Epoch 2/20\n",
      "24/24 [==============================] - 0s 9ms/step - loss: 0.6226 - accuracy: 0.7390 - val_loss: 0.5550 - val_accuracy: 0.7777\n",
      "Epoch 3/20\n",
      "24/24 [==============================] - 0s 9ms/step - loss: 0.4281 - accuracy: 0.8514 - val_loss: 0.5116 - val_accuracy: 0.7959\n",
      "Epoch 4/20\n",
      "24/24 [==============================] - 0s 9ms/step - loss: 0.3307 - accuracy: 0.8867 - val_loss: 0.5196 - val_accuracy: 0.7891\n",
      "Epoch 5/20\n",
      "24/24 [==============================] - 0s 10ms/step - loss: 0.2624 - accuracy: 0.9118 - val_loss: 0.5307 - val_accuracy: 0.8012\n",
      "Epoch 6/20\n",
      "24/24 [==============================] - 0s 10ms/step - loss: 0.2200 - accuracy: 0.9236 - val_loss: 0.5685 - val_accuracy: 0.7898\n",
      "Epoch 7/20\n",
      "24/24 [==============================] - 0s 9ms/step - loss: 0.1831 - accuracy: 0.9382 - val_loss: 0.6070 - val_accuracy: 0.7807\n",
      "Epoch 8/20\n",
      "24/24 [==============================] - 0s 10ms/step - loss: 0.1490 - accuracy: 0.9522 - val_loss: 0.6459 - val_accuracy: 0.7845\n",
      "Epoch 9/20\n",
      "24/24 [==============================] - 0s 10ms/step - loss: 0.1241 - accuracy: 0.9598 - val_loss: 0.7021 - val_accuracy: 0.7815\n",
      "Epoch 10/20\n",
      "24/24 [==============================] - 0s 10ms/step - loss: 0.1047 - accuracy: 0.9672 - val_loss: 0.7688 - val_accuracy: 0.7754\n",
      "Epoch 11/20\n",
      "24/24 [==============================] - 0s 10ms/step - loss: 0.0843 - accuracy: 0.9747 - val_loss: 0.8162 - val_accuracy: 0.7754\n",
      "Epoch 12/20\n",
      "24/24 [==============================] - 0s 10ms/step - loss: 0.0737 - accuracy: 0.9772 - val_loss: 0.9181 - val_accuracy: 0.7724\n",
      "Epoch 13/20\n",
      "24/24 [==============================] - 0s 10ms/step - loss: 0.0615 - accuracy: 0.9812 - val_loss: 0.9463 - val_accuracy: 0.7640\n",
      "Epoch 14/20\n",
      "24/24 [==============================] - 0s 10ms/step - loss: 0.0524 - accuracy: 0.9850 - val_loss: 1.0298 - val_accuracy: 0.7625\n",
      "Epoch 15/20\n",
      "24/24 [==============================] - 0s 10ms/step - loss: 0.0460 - accuracy: 0.9861 - val_loss: 1.0967 - val_accuracy: 0.7549\n",
      "Epoch 16/20\n",
      "24/24 [==============================] - 0s 10ms/step - loss: 0.0399 - accuracy: 0.9879 - val_loss: 1.1877 - val_accuracy: 0.7527\n",
      "Epoch 17/20\n",
      "24/24 [==============================] - 0s 10ms/step - loss: 0.0355 - accuracy: 0.9893 - val_loss: 1.2368 - val_accuracy: 0.7527\n",
      "Epoch 18/20\n",
      "24/24 [==============================] - 0s 10ms/step - loss: 0.0331 - accuracy: 0.9898 - val_loss: 1.3245 - val_accuracy: 0.7420\n",
      "Epoch 19/20\n",
      "24/24 [==============================] - 0s 10ms/step - loss: 0.0303 - accuracy: 0.9908 - val_loss: 1.3933 - val_accuracy: 0.7458\n",
      "Epoch 20/20\n",
      "24/24 [==============================] - 0s 7ms/step - loss: 0.0289 - accuracy: 0.9909 - val_loss: 1.4816 - val_accuracy: 0.7451\n",
      "Minimum validation loss reached in epoch 3\n"
     ]
    },
    {
     "data": {
      "image/png": "[encoded data removed]",
      "text/plain": [
       "<Figure size 432x288 with 1 Axes>"
      ]
     },
     "metadata": {
      "needs_background": "light"
     },
     "output_type": "display_data"
    }
   ],
   "source": [
    "base_history = deep_model(base_model, X_train_rest, X_val, y_train_rest, y_val)\n",
    "base_min = optimal_epoch(base_history)\n",
    "\n",
    "eval_metric(base_model, base_history, 'loss')"
   ]
  },
  {
   "cell_type": "code",
   "execution_count": 20,
   "metadata": {},
   "outputs": [],
   "source": [
    "reduced_model = models.Sequential([\n",
    "    layers.Dense(16, activation=\"relu\", input_shape=(NB_WORDS,)),\n",
    "    layers.Dense(3, activation=\"softmax\")\n",
    "], name=\"reduced\")"
   ]
  },
  {
   "cell_type": "code",
   "execution_count": 21,
   "metadata": {},
   "outputs": [
    {
     "name": "stdout",
     "output_type": "stream",
     "text": [
      "Epoch 1/20\n",
      "24/24 [==============================] - 1s 20ms/step - loss: 1.0347 - accuracy: 0.5705 - val_loss: 0.8981 - val_accuracy: 0.6457\n",
      "Epoch 2/20\n",
      "24/24 [==============================] - 0s 10ms/step - loss: 0.8488 - accuracy: 0.6650 - val_loss: 0.7819 - val_accuracy: 0.6745\n",
      "Epoch 3/20\n",
      "24/24 [==============================] - 0s 9ms/step - loss: 0.7210 - accuracy: 0.7089 - val_loss: 0.7059 - val_accuracy: 0.7094\n",
      "Epoch 4/20\n",
      "24/24 [==============================] - 0s 10ms/step - loss: 0.6391 - accuracy: 0.7456 - val_loss: 0.6528 - val_accuracy: 0.7382\n",
      "Epoch 5/20\n",
      "24/24 [==============================] - 0s 9ms/step - loss: 0.5620 - accuracy: 0.7842 - val_loss: 0.6122 - val_accuracy: 0.7716\n",
      "Epoch 6/20\n",
      "24/24 [==============================] - 0s 10ms/step - loss: 0.5199 - accuracy: 0.8199 - val_loss: 0.5813 - val_accuracy: 0.7807\n",
      "Epoch 7/20\n",
      "24/24 [==============================] - 0s 10ms/step - loss: 0.4709 - accuracy: 0.8418 - val_loss: 0.5582 - val_accuracy: 0.7838\n",
      "Epoch 8/20\n",
      "24/24 [==============================] - 0s 10ms/step - loss: 0.4344 - accuracy: 0.8597 - val_loss: 0.5401 - val_accuracy: 0.7883\n",
      "Epoch 9/20\n",
      "24/24 [==============================] - 0s 10ms/step - loss: 0.4026 - accuracy: 0.8679 - val_loss: 0.5287 - val_accuracy: 0.7883\n",
      "Epoch 10/20\n",
      "24/24 [==============================] - 0s 10ms/step - loss: 0.3749 - accuracy: 0.8797 - val_loss: 0.5192 - val_accuracy: 0.7959\n",
      "Epoch 11/20\n",
      "24/24 [==============================] - 0s 10ms/step - loss: 0.3494 - accuracy: 0.8877 - val_loss: 0.5156 - val_accuracy: 0.7959\n",
      "Epoch 12/20\n",
      "24/24 [==============================] - 0s 9ms/step - loss: 0.3248 - accuracy: 0.8968 - val_loss: 0.5129 - val_accuracy: 0.7936\n",
      "Epoch 13/20\n",
      "24/24 [==============================] - 0s 10ms/step - loss: 0.3104 - accuracy: 0.8995 - val_loss: 0.5113 - val_accuracy: 0.7951\n",
      "Epoch 14/20\n",
      "24/24 [==============================] - 0s 9ms/step - loss: 0.2973 - accuracy: 0.9043 - val_loss: 0.5139 - val_accuracy: 0.7959\n",
      "Epoch 15/20\n",
      "24/24 [==============================] - 0s 9ms/step - loss: 0.2791 - accuracy: 0.9081 - val_loss: 0.5144 - val_accuracy: 0.7982\n",
      "Epoch 16/20\n",
      "24/24 [==============================] - 0s 10ms/step - loss: 0.2689 - accuracy: 0.9083 - val_loss: 0.5177 - val_accuracy: 0.7936\n",
      "Epoch 17/20\n",
      "24/24 [==============================] - 0s 9ms/step - loss: 0.2539 - accuracy: 0.9188 - val_loss: 0.5217 - val_accuracy: 0.7914\n",
      "Epoch 18/20\n",
      "24/24 [==============================] - 0s 9ms/step - loss: 0.2403 - accuracy: 0.9207 - val_loss: 0.5274 - val_accuracy: 0.7883\n",
      "Epoch 19/20\n",
      "24/24 [==============================] - 0s 10ms/step - loss: 0.2322 - accuracy: 0.9234 - val_loss: 0.5321 - val_accuracy: 0.7914\n",
      "Epoch 20/20\n",
      "24/24 [==============================] - 0s 7ms/step - loss: 0.2270 - accuracy: 0.9234 - val_loss: 0.5382 - val_accuracy: 0.7914\n",
      "Minimum validation loss reached in epoch 13\n"
     ]
    },
    {
     "data": {
      "image/png": "[encoded data removed]",
      "text/plain": [
       "<Figure size 432x288 with 1 Axes>"
      ]
     },
     "metadata": {
      "needs_background": "light"
     },
     "output_type": "display_data"
    }
   ],
   "source": [
    "reduced_history = deep_model(reduced_model, X_train_rest, X_val, y_train_rest, y_val)\n",
    "reduced_min = optimal_epoch(reduced_history)\n",
    "\n",
    "eval_metric(reduced_model, reduced_history, 'loss')"
   ]
  },
  {
   "cell_type": "code",
   "execution_count": 22,
   "metadata": {},
   "outputs": [
    {
     "data": {
      "image/png": "[encoded data removed]",
      "text/plain": [
       "<Figure size 432x288 with 1 Axes>"
      ]
     },
     "metadata": {
      "needs_background": "light"
     },
     "output_type": "display_data"
    }
   ],
   "source": [
    "compare_models_by_metric(base_model, reduced_model, base_history, reduced_history, 'val_loss')"
   ]
  },
  {
   "cell_type": "code",
   "execution_count": 23,
   "metadata": {},
   "outputs": [],
   "source": [
    "reg_model = models.Sequential([\n",
    "    layers.Dense(64, kernel_regularizer=regularizers.l2(0.001), activation=\"relu\", input_shape=(NB_WORDS,)),\n",
    "    layers.Dense(64, kernel_regularizer=regularizers.l2(0.001), activation=\"relu\"),\n",
    "    layers.Dense(3, activation=\"softmax\")\n",
    "], name=\"l2_reg\")"
   ]
  },
  {
   "cell_type": "code",
   "execution_count": 24,
   "metadata": {},
   "outputs": [
    {
     "name": "stdout",
     "output_type": "stream",
     "text": [
      "Epoch 1/20\n",
      "24/24 [==============================] - 1s 16ms/step - loss: 1.0480 - accuracy: 0.5793 - val_loss: 0.7614 - val_accuracy: 0.7155\n",
      "Epoch 2/20\n",
      "24/24 [==============================] - 0s 10ms/step - loss: 0.6830 - accuracy: 0.7577 - val_loss: 0.6468 - val_accuracy: 0.7663\n",
      "Epoch 3/20\n",
      "24/24 [==============================] - 0s 10ms/step - loss: 0.5336 - accuracy: 0.8444 - val_loss: 0.6108 - val_accuracy: 0.7959\n",
      "Epoch 4/20\n",
      "24/24 [==============================] - 0s 10ms/step - loss: 0.4655 - accuracy: 0.8759 - val_loss: 0.6117 - val_accuracy: 0.8035\n",
      "Epoch 5/20\n",
      "24/24 [==============================] - 0s 10ms/step - loss: 0.4205 - accuracy: 0.8898 - val_loss: 0.6299 - val_accuracy: 0.7830\n",
      "Epoch 6/20\n",
      "24/24 [==============================] - 0s 10ms/step - loss: 0.3904 - accuracy: 0.9008 - val_loss: 0.6381 - val_accuracy: 0.7974\n",
      "Epoch 7/20\n",
      "24/24 [==============================] - 0s 10ms/step - loss: 0.3697 - accuracy: 0.9132 - val_loss: 0.6415 - val_accuracy: 0.7936\n",
      "Epoch 8/20\n",
      "24/24 [==============================] - 0s 10ms/step - loss: 0.3422 - accuracy: 0.9198 - val_loss: 0.6567 - val_accuracy: 0.7951\n",
      "Epoch 9/20\n",
      "24/24 [==============================] - 0s 10ms/step - loss: 0.3273 - accuracy: 0.9288 - val_loss: 0.6660 - val_accuracy: 0.7830\n",
      "Epoch 10/20\n",
      "24/24 [==============================] - 0s 10ms/step - loss: 0.3130 - accuracy: 0.9332 - val_loss: 0.7001 - val_accuracy: 0.7709\n",
      "Epoch 11/20\n",
      "24/24 [==============================] - 0s 9ms/step - loss: 0.3029 - accuracy: 0.9381 - val_loss: 0.6993 - val_accuracy: 0.7898\n",
      "Epoch 12/20\n",
      "24/24 [==============================] - 0s 10ms/step - loss: 0.2882 - accuracy: 0.9422 - val_loss: 0.7029 - val_accuracy: 0.7747\n",
      "Epoch 13/20\n",
      "24/24 [==============================] - 0s 10ms/step - loss: 0.2696 - accuracy: 0.9505 - val_loss: 0.7062 - val_accuracy: 0.7747\n",
      "Epoch 14/20\n",
      "24/24 [==============================] - 0s 9ms/step - loss: 0.2657 - accuracy: 0.9540 - val_loss: 0.7271 - val_accuracy: 0.7747\n",
      "Epoch 15/20\n",
      "24/24 [==============================] - 0s 10ms/step - loss: 0.2516 - accuracy: 0.9599 - val_loss: 0.7303 - val_accuracy: 0.7762\n",
      "Epoch 16/20\n",
      "24/24 [==============================] - 0s 10ms/step - loss: 0.2430 - accuracy: 0.9614 - val_loss: 0.7498 - val_accuracy: 0.7671\n",
      "Epoch 17/20\n",
      "24/24 [==============================] - 0s 10ms/step - loss: 0.2394 - accuracy: 0.9619 - val_loss: 0.7504 - val_accuracy: 0.7777\n",
      "Epoch 18/20\n",
      "24/24 [==============================] - 0s 10ms/step - loss: 0.2302 - accuracy: 0.9664 - val_loss: 0.7593 - val_accuracy: 0.7853\n",
      "Epoch 19/20\n",
      "24/24 [==============================] - 0s 14ms/step - loss: 0.2243 - accuracy: 0.9670 - val_loss: 0.7709 - val_accuracy: 0.7693\n",
      "Epoch 20/20\n",
      "24/24 [==============================] - 0s 7ms/step - loss: 0.2162 - accuracy: 0.9710 - val_loss: 0.7562 - val_accuracy: 0.7777\n",
      "Minimum validation loss reached in epoch 3\n"
     ]
    },
    {
     "data": {
      "image/png": "[encoded data removed]",
      "text/plain": [
       "<Figure size 432x288 with 1 Axes>"
      ]
     },
     "metadata": {
      "needs_background": "light"
     },
     "output_type": "display_data"
    }
   ],
   "source": [
    "reg_history = deep_model(reg_model, X_train_rest, X_val, y_train_rest, y_val)\n",
    "reg_min = optimal_epoch(reg_history)\n",
    "\n",
    "eval_metric(reg_model, reg_history, 'loss')"
   ]
  },
  {
   "cell_type": "code",
   "execution_count": 25,
   "metadata": {},
   "outputs": [
    {
     "data": {
      "image/png": "[encoded data removed]",
      "text/plain": [
       "<Figure size 432x288 with 1 Axes>"
      ]
     },
     "metadata": {
      "needs_background": "light"
     },
     "output_type": "display_data"
    }
   ],
   "source": [
    "compare_models_by_metric(base_model, reg_model, base_history, reg_history, 'val_loss')"
   ]
  },
  {
   "cell_type": "code",
   "execution_count": 26,
   "metadata": {},
   "outputs": [],
   "source": [
    "drop_model = models.Sequential([\n",
    "    layers.Dense(64, activation=\"relu\", input_shape=(NB_WORDS,)),\n",
    "    layers.Dropout(0.5),\n",
    "    layers.Dense(64, activation=\"relu\"),\n",
    "    layers.Dropout(0.5),\n",
    "    layers.Dense(3, activation=\"softmax\")\n",
    "], name=\"dropout\")"
   ]
  },
  {
   "cell_type": "code",
   "execution_count": 27,
   "metadata": {},
   "outputs": [
    {
     "name": "stdout",
     "output_type": "stream",
     "text": [
      "Epoch 1/20\n",
      "24/24 [==============================] - 1s 15ms/step - loss: 0.9648 - accuracy: 0.5884 - val_loss: 0.7593 - val_accuracy: 0.6161\n",
      "Epoch 2/20\n",
      "24/24 [==============================] - 0s 10ms/step - loss: 0.7390 - accuracy: 0.6417 - val_loss: 0.6614 - val_accuracy: 0.7238\n",
      "Epoch 3/20\n",
      "24/24 [==============================] - 0s 10ms/step - loss: 0.6255 - accuracy: 0.7404 - val_loss: 0.5897 - val_accuracy: 0.7815\n",
      "Epoch 4/20\n",
      "24/24 [==============================] - 0s 10ms/step - loss: 0.5388 - accuracy: 0.8087 - val_loss: 0.5597 - val_accuracy: 0.7800\n",
      "Epoch 5/20\n",
      "24/24 [==============================] - 0s 10ms/step - loss: 0.4733 - accuracy: 0.8330 - val_loss: 0.5263 - val_accuracy: 0.7891\n",
      "Epoch 6/20\n",
      "24/24 [==============================] - 0s 10ms/step - loss: 0.4139 - accuracy: 0.8538 - val_loss: 0.5189 - val_accuracy: 0.7936\n",
      "Epoch 7/20\n",
      "24/24 [==============================] - 0s 10ms/step - loss: 0.3753 - accuracy: 0.8687 - val_loss: 0.5191 - val_accuracy: 0.7921\n",
      "Epoch 8/20\n",
      "24/24 [==============================] - 0s 10ms/step - loss: 0.3366 - accuracy: 0.8829 - val_loss: 0.5345 - val_accuracy: 0.7982\n",
      "Epoch 9/20\n",
      "24/24 [==============================] - 0s 10ms/step - loss: 0.3016 - accuracy: 0.8958 - val_loss: 0.5479 - val_accuracy: 0.7982\n",
      "Epoch 10/20\n",
      "24/24 [==============================] - 0s 10ms/step - loss: 0.2760 - accuracy: 0.9048 - val_loss: 0.5600 - val_accuracy: 0.7982\n",
      "Epoch 11/20\n",
      "24/24 [==============================] - 0s 10ms/step - loss: 0.2577 - accuracy: 0.9100 - val_loss: 0.5760 - val_accuracy: 0.7914\n",
      "Epoch 12/20\n",
      "24/24 [==============================] - 0s 10ms/step - loss: 0.2397 - accuracy: 0.9187 - val_loss: 0.6002 - val_accuracy: 0.7853\n",
      "Epoch 13/20\n",
      "24/24 [==============================] - 0s 10ms/step - loss: 0.2272 - accuracy: 0.9222 - val_loss: 0.6331 - val_accuracy: 0.7891\n",
      "Epoch 14/20\n",
      "24/24 [==============================] - 0s 9ms/step - loss: 0.2048 - accuracy: 0.9317 - val_loss: 0.6458 - val_accuracy: 0.7898\n",
      "Epoch 15/20\n",
      "24/24 [==============================] - 0s 10ms/step - loss: 0.1839 - accuracy: 0.9362 - val_loss: 0.6685 - val_accuracy: 0.7876\n",
      "Epoch 16/20\n",
      "24/24 [==============================] - 0s 10ms/step - loss: 0.1703 - accuracy: 0.9439 - val_loss: 0.7094 - val_accuracy: 0.7898\n",
      "Epoch 17/20\n",
      "24/24 [==============================] - 0s 10ms/step - loss: 0.1611 - accuracy: 0.9458 - val_loss: 0.7225 - val_accuracy: 0.7883\n",
      "Epoch 18/20\n",
      "24/24 [==============================] - 0s 15ms/step - loss: 0.1507 - accuracy: 0.9494 - val_loss: 0.7441 - val_accuracy: 0.7860\n",
      "Epoch 19/20\n",
      "24/24 [==============================] - 0s 10ms/step - loss: 0.1382 - accuracy: 0.9535 - val_loss: 0.7769 - val_accuracy: 0.7876\n",
      "Epoch 20/20\n",
      "24/24 [==============================] - 0s 7ms/step - loss: 0.1299 - accuracy: 0.9536 - val_loss: 0.8015 - val_accuracy: 0.7815\n",
      "Minimum validation loss reached in epoch 6\n"
     ]
    }
   ],
   "source": [
    "drop_history = deep_model(drop_model, X_train_rest, X_val, y_train_rest, y_val)\n",
    "drop_min = optimal_epoch(drop_history)"
   ]
  },
  {
   "cell_type": "code",
   "execution_count": 28,
   "metadata": {},
   "outputs": [
    {
     "data": {
      "image/png": "[encoded data removed]",
      "text/plain": [
       "<Figure size 432x288 with 1 Axes>"
      ]
     },
     "metadata": {
      "needs_background": "light"
     },
     "output_type": "display_data"
    }
   ],
   "source": [
    "compare_models_by_metric(base_model, drop_model, base_history, drop_history, 'val_loss')"
   ]
  },
  {
   "cell_type": "code",
   "execution_count": 29,
   "metadata": {},
   "outputs": [
    {
     "name": "stdout",
     "output_type": "stream",
     "text": [
      "Epoch 1/3\n",
      "26/26 [==============================] - 0s 8ms/step - loss: 0.1583 - accuracy: 0.9670\n",
      "Epoch 2/3\n",
      "26/26 [==============================] - 0s 8ms/step - loss: 0.1005 - accuracy: 0.9735\n",
      "Epoch 3/3\n",
      "26/26 [==============================] - 0s 5ms/step - loss: 0.0749 - accuracy: 0.9772\n",
      "46/46 [==============================] - 0s 2ms/step - loss: 1.2823 - accuracy: 0.7514\n",
      "\n",
      "Test accuracy: 75.14%\n",
      "Epoch 1/13\n",
      "26/26 [==============================] - 0s 7ms/step - loss: 0.2484 - accuracy: 0.9142\n",
      "Epoch 2/13\n",
      "26/26 [==============================] - 0s 7ms/step - loss: 0.2375 - accuracy: 0.9167\n",
      "Epoch 3/13\n",
      "26/26 [==============================] - 0s 7ms/step - loss: 0.2275 - accuracy: 0.9210\n",
      "Epoch 4/13\n",
      "26/26 [==============================] - 0s 8ms/step - loss: 0.2185 - accuracy: 0.9248\n",
      "Epoch 5/13\n",
      "26/26 [==============================] - 0s 8ms/step - loss: 0.2099 - accuracy: 0.9273\n",
      "Epoch 6/13\n",
      "26/26 [==============================] - 0s 8ms/step - loss: 0.2018 - accuracy: 0.9306\n",
      "Epoch 7/13\n",
      "26/26 [==============================] - 0s 8ms/step - loss: 0.1944 - accuracy: 0.9331\n",
      "Epoch 8/13\n",
      "26/26 [==============================] - 0s 7ms/step - loss: 0.1873 - accuracy: 0.9350\n",
      "Epoch 9/13\n",
      "26/26 [==============================] - 0s 7ms/step - loss: 0.1806 - accuracy: 0.9381\n",
      "Epoch 10/13\n",
      "26/26 [==============================] - 0s 7ms/step - loss: 0.1745 - accuracy: 0.9413\n",
      "Epoch 11/13\n",
      "26/26 [==============================] - 0s 7ms/step - loss: 0.1685 - accuracy: 0.9416\n",
      "Epoch 12/13\n",
      "26/26 [==============================] - 0s 7ms/step - loss: 0.1629 - accuracy: 0.9431\n",
      "Epoch 13/13\n",
      "26/26 [==============================] - 0s 5ms/step - loss: 0.1575 - accuracy: 0.9459\n",
      "46/46 [==============================] - 0s 2ms/step - loss: 0.7248 - accuracy: 0.7643\n",
      "\n",
      "Test accuracy: 76.43%\n",
      "Epoch 1/3\n",
      "26/26 [==============================] - 0s 8ms/step - loss: 0.2835 - accuracy: 0.9452\n",
      "Epoch 2/3\n",
      "26/26 [==============================] - 0s 8ms/step - loss: 0.2552 - accuracy: 0.9534\n",
      "Epoch 3/3\n",
      "26/26 [==============================] - 0s 5ms/step - loss: 0.2440 - accuracy: 0.9569\n",
      "46/46 [==============================] - 0s 2ms/step - loss: 0.7947 - accuracy: 0.7732\n",
      "\n",
      "Test accuracy: 77.32%\n",
      "Epoch 1/6\n",
      "26/26 [==============================] - 0s 7ms/step - loss: 0.2018 - accuracy: 0.9384\n",
      "Epoch 2/6\n",
      "26/26 [==============================] - 0s 8ms/step - loss: 0.1771 - accuracy: 0.9448\n",
      "Epoch 3/6\n",
      "26/26 [==============================] - 0s 8ms/step - loss: 0.1591 - accuracy: 0.9491\n",
      "Epoch 4/6\n",
      "26/26 [==============================] - 0s 8ms/step - loss: 0.1488 - accuracy: 0.9525\n",
      "Epoch 5/6\n",
      "26/26 [==============================] - 0s 7ms/step - loss: 0.1389 - accuracy: 0.9567\n",
      "Epoch 6/6\n",
      "26/26 [==============================] - 0s 5ms/step - loss: 0.1286 - accuracy: 0.9580\n",
      "46/46 [==============================] - 0s 2ms/step - loss: 0.9888 - accuracy: 0.7766\n",
      "\n",
      "Test accuracy: 77.66%\n"
     ]
    }
   ],
   "source": [
    "base_results = test_model(base_model, X_train_oh, y_train_oh, X_test_oh, y_test_oh, base_min)\n",
    "reduced_results = test_model(reduced_model, X_train_oh, y_train_oh, X_test_oh, y_test_oh, reduced_min)\n",
    "reg_results = test_model(reg_model, X_train_oh, y_train_oh, X_test_oh, y_test_oh, reg_min)\n",
    "drop_results = test_model(drop_model, X_train_oh, y_train_oh, X_test_oh, y_test_oh, drop_min)"
   ]
  },
  {
   "cell_type": "code",
   "execution_count": null,
   "metadata": {},
   "outputs": [],
   "source": []
  }
 ],
 "metadata": {
  "kernelspec": {
   "display_name": "Python 3",
   "language": "python",
   "name": "python3"
  },
  "language_info": {
   "codemirror_mode": {
    "name": "ipython",
    "version": 3
   },
   "file_extension": ".py",
   "mimetype": "text/x-python",
   "name": "python",
   "nbconvert_exporter": "python",
   "pygments_lexer": "ipython3",
   "version": "3.6.9"
  }
 },
 "nbformat": 4,
 "nbformat_minor": 2
}
